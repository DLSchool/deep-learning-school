{
 "cells": [
  {
   "cell_type": "code",
   "execution_count": 1,
   "metadata": {
    "colab": {
     "base_uri": "https://localhost:8080/",
     "height": 34
    },
    "colab_type": "code",
    "executionInfo": {
     "elapsed": 1684,
     "status": "ok",
     "timestamp": 1545748609379,
     "user": {
      "displayName": "Кирилл Игоревич Голубев",
      "photoUrl": "",
      "userId": "04104925801798209408"
     },
     "user_tz": -180
    },
    "id": "SXn1O59KHSjS",
    "outputId": "c3d98807-41b1-4c5c-f90f-f4cc10fd67de"
   },
   "outputs": [
    {
     "name": "stderr",
     "output_type": "stream",
     "text": [
      "Using TensorFlow backend.\n",
      "/home/runfme/anaconda3/lib/python3.6/site-packages/h5py/__init__.py:34: FutureWarning: Conversion of the second argument of issubdtype from `float` to `np.floating` is deprecated. In future, it will be treated as `np.float64 == np.dtype(float).type`.\n",
      "  from ._conv import register_converters as _register_converters\n"
     ]
    }
   ],
   "source": [
    "from keras.datasets import mnist\n",
    "from keras.layers import Input, Dense, Reshape, Flatten, Dropout\n",
    "from keras.layers import BatchNormalization, Activation, ZeroPadding2D\n",
    "from keras.layers.advanced_activations import LeakyReLU\n",
    "from keras.layers.convolutional import UpSampling2D, Conv2D\n",
    "from keras.models import Sequential, Model\n",
    "from keras.optimizers import Adam\n",
    "\n",
    "import matplotlib.pyplot as plt\n",
    "\n",
    "import sys\n",
    "\n",
    "import numpy as np"
   ]
  },
  {
   "cell_type": "markdown",
   "metadata": {
    "colab_type": "text",
    "id": "qW1bz9alzJTd"
   },
   "source": [
    "для развлечений:\n",
    "[dreamer.py](https://github.com/samim23/DeepDreamAnim)"
   ]
  },
  {
   "cell_type": "markdown",
   "metadata": {
    "colab_type": "text",
    "id": "bAurW_43ka0n"
   },
   "source": [
    "Реализация GAN'а ниже взята [отсюда](https://github.com/eriklindernoren/Keras-GAN)<br />\n",
    "Ее вывод будет сохраняться в папку images. <br \\> "
   ]
  },
  {
   "cell_type": "code",
   "execution_count": 2,
   "metadata": {
    "colab": {},
    "colab_type": "code",
    "id": "ccCld37tHfvs"
   },
   "outputs": [
    {
     "name": "stdout",
     "output_type": "stream",
     "text": [
      "mkdir: cannot create directory ‘images’: File exists\r\n"
     ]
    }
   ],
   "source": [
    "!mkdir images"
   ]
  },
  {
   "cell_type": "code",
   "execution_count": 3,
   "metadata": {
    "colab": {},
    "colab_type": "code",
    "collapsed": true,
    "id": "Vpd2LRTeHSjt"
   },
   "outputs": [],
   "source": [
    "class GAN():\n",
    "    def __init__(self):\n",
    "        self.img_rows = 28\n",
    "        self.img_cols = 28\n",
    "        self.channels = 1\n",
    "        self.img_shape = (self.img_rows, self.img_cols, self.channels)\n",
    "        self.latent_dim = 100\n",
    "\n",
    "        optimizer = Adam(0.0002, 0.5)\n",
    "\n",
    "        # Build and compile the discriminator\n",
    "        self.discriminator = self.build_discriminator()\n",
    "        self.discriminator.compile(loss='binary_crossentropy',\n",
    "            optimizer=optimizer,\n",
    "            metrics=['accuracy'])\n",
    "\n",
    "        # Build the generator\n",
    "        self.generator = self.build_generator()\n",
    "\n",
    "        # The generator takes noise as input and generates imgs\n",
    "        z = Input(shape=(self.latent_dim,))\n",
    "        img = self.generator(z)\n",
    "\n",
    "        # For the combined model we will only train the generator\n",
    "        self.discriminator.trainable = False\n",
    "\n",
    "        # The discriminator takes generated images as input and determines validity\n",
    "        validity = self.discriminator(img)\n",
    "\n",
    "        # The combined model  (stacked generator and discriminator)\n",
    "        # Trains the generator to fool the discriminator\n",
    "        self.combined = Model(z, validity)\n",
    "        self.combined.compile(loss='binary_crossentropy', optimizer=optimizer)\n",
    "\n",
    "\n",
    "    def build_generator(self):\n",
    "\n",
    "        model = Sequential()\n",
    "\n",
    "        model.add(Dense(256, input_dim=self.latent_dim))\n",
    "        model.add(LeakyReLU(alpha=0.2))\n",
    "        model.add(BatchNormalization(momentum=0.8))\n",
    "        model.add(Dense(512))\n",
    "        model.add(LeakyReLU(alpha=0.2))\n",
    "        model.add(BatchNormalization(momentum=0.8))\n",
    "        model.add(Dense(1024))\n",
    "        model.add(LeakyReLU(alpha=0.2))\n",
    "        model.add(BatchNormalization(momentum=0.8))\n",
    "        model.add(Dense(np.prod(self.img_shape), activation='tanh'))\n",
    "        model.add(Reshape(self.img_shape))\n",
    "\n",
    "        model.summary()\n",
    "\n",
    "        noise = Input(shape=(self.latent_dim,))\n",
    "        img = model(noise)\n",
    "\n",
    "        return Model(noise, img)\n",
    "\n",
    "    def build_discriminator(self):\n",
    "\n",
    "        model = Sequential()\n",
    "\n",
    "        model.add(Flatten(input_shape=self.img_shape))\n",
    "        model.add(Dense(512))\n",
    "        model.add(LeakyReLU(alpha=0.2))\n",
    "        model.add(Dense(256))\n",
    "        model.add(LeakyReLU(alpha=0.2))\n",
    "        model.add(Dense(1, activation='sigmoid'))\n",
    "        model.summary()\n",
    "\n",
    "        img = Input(shape=self.img_shape)\n",
    "        validity = model(img)\n",
    "\n",
    "        return Model(img, validity)\n",
    "\n",
    "    def train(self, epochs, batch_size=128, sample_interval=50):\n",
    "\n",
    "        # Load the dataset\n",
    "        (X_train, _), (_, _) = mnist.load_data()\n",
    "\n",
    "        # Rescale -1 to 1\n",
    "        X_train = X_train / 127.5 - 1.\n",
    "        X_train = np.expand_dims(X_train, axis=3)\n",
    "\n",
    "        # Adversarial ground truths\n",
    "        valid = np.ones((batch_size, 1))\n",
    "        fake = np.zeros((batch_size, 1))\n",
    "\n",
    "        for epoch in range(epochs):\n",
    "\n",
    "            # ---------------------\n",
    "            #  Train Discriminator\n",
    "            # ---------------------\n",
    "\n",
    "            # Select a random batch of images\n",
    "            idx = np.random.randint(0, X_train.shape[0], batch_size)\n",
    "            imgs = X_train[idx]\n",
    "\n",
    "            noise = np.random.normal(0, 1, (batch_size, self.latent_dim))\n",
    "\n",
    "            # Generate a batch of new images\n",
    "            gen_imgs = self.generator.predict(noise)\n",
    "\n",
    "            # Train the discriminator\n",
    "            d_loss_real = self.discriminator.train_on_batch(imgs, valid)\n",
    "            d_loss_fake = self.discriminator.train_on_batch(gen_imgs, fake)\n",
    "            d_loss = 0.5 * np.add(d_loss_real, d_loss_fake)\n",
    "\n",
    "            # ---------------------\n",
    "            #  Train Generator\n",
    "            # ---------------------\n",
    "\n",
    "            noise = np.random.normal(0, 1, (batch_size, self.latent_dim))\n",
    "\n",
    "            # Train the generator (to have the discriminator label samples as valid)\n",
    "            g_loss = self.combined.train_on_batch(noise, valid)\n",
    "\n",
    "            # If at save interval => save generated image samples\n",
    "            if epoch % sample_interval == 0:\n",
    "                # Plot the progress\n",
    "                print (\"%d [D loss: %f, acc.: %.2f%%] [G loss: %f]\" % (epoch, d_loss[0], 100*d_loss[1], g_loss))\n",
    "                self.sample_images(epoch)\n",
    "\n",
    "    def sample_images(self, epoch):\n",
    "        r, c = 5, 5\n",
    "        noise = np.random.normal(0, 1, (r * c, self.latent_dim))\n",
    "        gen_imgs = self.generator.predict(noise)\n",
    "\n",
    "        # Rescale images 0 - 1\n",
    "        gen_imgs = 0.5 * gen_imgs + 0.5\n",
    "\n",
    "        fig, axs = plt.subplots(r, c)\n",
    "        cnt = 0\n",
    "        for i in range(r):\n",
    "            for j in range(c):\n",
    "                axs[i,j].imshow(gen_imgs[cnt, :,:,0], cmap='gray')\n",
    "                axs[i,j].axis('off')\n",
    "                cnt += 1\n",
    "        fig.savefig(\"images/%d.png\" % epoch)\n",
    "        plt.close()"
   ]
  },
  {
   "cell_type": "code",
   "execution_count": 4,
   "metadata": {
    "colab": {
     "base_uri": "https://localhost:8080/",
     "height": 851
    },
    "colab_type": "code",
    "executionInfo": {
     "elapsed": 5016,
     "status": "ok",
     "timestamp": 1545485594107,
     "user": {
      "displayName": "Кирилл Игоревич Голубев",
      "photoUrl": "",
      "userId": "04104925801798209408"
     },
     "user_tz": -180
    },
    "id": "SEr7U1LcHSj3",
    "outputId": "55761622-4827-4455-980b-9f94a6e9bec7"
   },
   "outputs": [
    {
     "name": "stdout",
     "output_type": "stream",
     "text": [
      "WARNING:tensorflow:From /home/runfme/anaconda3/lib/python3.6/site-packages/keras/backend/tensorflow_backend.py:1168: calling reduce_prod (from tensorflow.python.ops.math_ops) with keep_dims is deprecated and will be removed in a future version.\n",
      "Instructions for updating:\n",
      "keep_dims is deprecated, use keepdims instead\n",
      "_________________________________________________________________\n",
      "Layer (type)                 Output Shape              Param #   \n",
      "=================================================================\n",
      "flatten_1 (Flatten)          (None, 784)               0         \n",
      "_________________________________________________________________\n",
      "dense_1 (Dense)              (None, 512)               401920    \n",
      "_________________________________________________________________\n",
      "leaky_re_lu_1 (LeakyReLU)    (None, 512)               0         \n",
      "_________________________________________________________________\n",
      "dense_2 (Dense)              (None, 256)               131328    \n",
      "_________________________________________________________________\n",
      "leaky_re_lu_2 (LeakyReLU)    (None, 256)               0         \n",
      "_________________________________________________________________\n",
      "dense_3 (Dense)              (None, 1)                 257       \n",
      "=================================================================\n",
      "Total params: 533,505\n",
      "Trainable params: 533,505\n",
      "Non-trainable params: 0\n",
      "_________________________________________________________________\n",
      "WARNING:tensorflow:From /home/runfme/anaconda3/lib/python3.6/site-packages/keras/backend/tensorflow_backend.py:1257: calling reduce_mean (from tensorflow.python.ops.math_ops) with keep_dims is deprecated and will be removed in a future version.\n",
      "Instructions for updating:\n",
      "keep_dims is deprecated, use keepdims instead\n",
      "_________________________________________________________________\n",
      "Layer (type)                 Output Shape              Param #   \n",
      "=================================================================\n",
      "dense_4 (Dense)              (None, 256)               25856     \n",
      "_________________________________________________________________\n",
      "leaky_re_lu_3 (LeakyReLU)    (None, 256)               0         \n",
      "_________________________________________________________________\n",
      "batch_normalization_1 (Batch (None, 256)               1024      \n",
      "_________________________________________________________________\n",
      "dense_5 (Dense)              (None, 512)               131584    \n",
      "_________________________________________________________________\n",
      "leaky_re_lu_4 (LeakyReLU)    (None, 512)               0         \n",
      "_________________________________________________________________\n",
      "batch_normalization_2 (Batch (None, 512)               2048      \n",
      "_________________________________________________________________\n",
      "dense_6 (Dense)              (None, 1024)              525312    \n",
      "_________________________________________________________________\n",
      "leaky_re_lu_5 (LeakyReLU)    (None, 1024)              0         \n",
      "_________________________________________________________________\n",
      "batch_normalization_3 (Batch (None, 1024)              4096      \n",
      "_________________________________________________________________\n",
      "dense_7 (Dense)              (None, 784)               803600    \n",
      "_________________________________________________________________\n",
      "reshape_1 (Reshape)          (None, 28, 28, 1)         0         \n",
      "=================================================================\n",
      "Total params: 1,493,520\n",
      "Trainable params: 1,489,936\n",
      "Non-trainable params: 3,584\n",
      "_________________________________________________________________\n"
     ]
    }
   ],
   "source": [
    "gan = GAN()"
   ]
  },
  {
   "cell_type": "code",
   "execution_count": 0,
   "metadata": {
    "colab": {
     "base_uri": "https://localhost:8080/",
     "height": 1148
    },
    "colab_type": "code",
    "executionInfo": {
     "elapsed": 333,
     "status": "ok",
     "timestamp": 1545486087158,
     "user": {
      "displayName": "Кирилл Игоревич Голубев",
      "photoUrl": "",
      "userId": "04104925801798209408"
     },
     "user_tz": -180
    },
    "id": "QdgeeExSHSkG",
    "outputId": "a9c0798e-8121-4b0c-887b-1c9bde15304d"
   },
   "outputs": [
    {
     "name": "stdout",
     "output_type": "stream",
     "text": [
      "Downloading data from https://s3.amazonaws.com/img-datasets/mnist.npz\n",
      "11493376/11490434 [==============================] - 1s 0us/step\n"
     ]
    },
    {
     "name": "stderr",
     "output_type": "stream",
     "text": [
      "/usr/local/lib/python3.6/dist-packages/keras/engine/training.py:490: UserWarning: Discrepancy between trainable weights and collected trainable weights, did you set `model.trainable` without calling `model.compile` after ?\n",
      "  'Discrepancy between trainable weights and collected trainable'\n"
     ]
    },
    {
     "name": "stdout",
     "output_type": "stream",
     "text": [
      "0 [D loss: 0.642684, acc.: 76.56%] [G loss: 0.816375]\n",
      "50 [D loss: 0.025576, acc.: 100.00%] [G loss: 3.766458]\n",
      "100 [D loss: 0.111336, acc.: 95.70%] [G loss: 4.156816]\n",
      "150 [D loss: 0.509860, acc.: 71.48%] [G loss: 1.947715]\n",
      "200 [D loss: 0.381213, acc.: 78.52%] [G loss: 2.538232]\n",
      "250 [D loss: 0.707495, acc.: 44.53%] [G loss: 0.796047]\n",
      "300 [D loss: 0.655710, acc.: 47.27%] [G loss: 0.637194]\n",
      "350 [D loss: 0.648425, acc.: 48.05%] [G loss: 0.660779]\n",
      "400 [D loss: 0.631852, acc.: 50.39%] [G loss: 0.688657]\n",
      "450 [D loss: 0.651288, acc.: 50.00%] [G loss: 0.694486]\n",
      "500 [D loss: 0.616012, acc.: 63.28%] [G loss: 0.731555]\n",
      "550 [D loss: 0.611392, acc.: 63.28%] [G loss: 0.756336]\n",
      "600 [D loss: 0.619286, acc.: 66.80%] [G loss: 0.843976]\n",
      "650 [D loss: 0.653988, acc.: 57.81%] [G loss: 0.822656]\n",
      "700 [D loss: 0.618248, acc.: 66.41%] [G loss: 0.836511]\n",
      "750 [D loss: 0.587988, acc.: 71.88%] [G loss: 0.858023]\n",
      "800 [D loss: 0.606719, acc.: 67.19%] [G loss: 0.904606]\n",
      "850 [D loss: 0.609858, acc.: 67.19%] [G loss: 0.882053]\n",
      "900 [D loss: 0.624865, acc.: 68.36%] [G loss: 0.851647]\n",
      "950 [D loss: 0.577961, acc.: 76.56%] [G loss: 0.888152]\n",
      "1000 [D loss: 0.591103, acc.: 71.88%] [G loss: 0.891305]\n",
      "1050 [D loss: 0.588228, acc.: 74.22%] [G loss: 0.924049]\n",
      "1100 [D loss: 0.589618, acc.: 71.88%] [G loss: 0.910969]\n",
      "1150 [D loss: 0.554430, acc.: 78.52%] [G loss: 0.972646]\n",
      "1200 [D loss: 0.598841, acc.: 66.41%] [G loss: 0.969857]\n",
      "1250 [D loss: 0.606973, acc.: 67.58%] [G loss: 0.929552]\n",
      "1300 [D loss: 0.573496, acc.: 74.61%] [G loss: 0.983438]\n",
      "1350 [D loss: 0.578088, acc.: 75.78%] [G loss: 0.956278]\n",
      "1400 [D loss: 0.580577, acc.: 74.61%] [G loss: 0.962703]\n",
      "1450 [D loss: 0.581192, acc.: 69.92%] [G loss: 0.948705]\n",
      "1500 [D loss: 0.617753, acc.: 66.02%] [G loss: 0.914058]\n",
      "1550 [D loss: 0.599391, acc.: 71.88%] [G loss: 0.944377]\n",
      "1600 [D loss: 0.594910, acc.: 71.88%] [G loss: 0.929869]\n",
      "1650 [D loss: 0.593357, acc.: 70.31%] [G loss: 0.944911]\n",
      "1700 [D loss: 0.587092, acc.: 73.05%] [G loss: 0.949455]\n",
      "1750 [D loss: 0.570181, acc.: 76.56%] [G loss: 0.934537]\n",
      "1800 [D loss: 0.620333, acc.: 69.92%] [G loss: 0.900237]\n",
      "1850 [D loss: 0.616282, acc.: 68.75%] [G loss: 0.927545]\n",
      "1900 [D loss: 0.597882, acc.: 69.53%] [G loss: 0.923688]\n",
      "1950 [D loss: 0.568694, acc.: 71.88%] [G loss: 0.887704]\n",
      "2000 [D loss: 0.605941, acc.: 66.80%] [G loss: 0.921186]\n",
      "2050 [D loss: 0.597911, acc.: 73.05%] [G loss: 0.918928]\n",
      "2100 [D loss: 0.584214, acc.: 74.22%] [G loss: 0.889328]\n",
      "2150 [D loss: 0.590630, acc.: 75.39%] [G loss: 0.896212]\n",
      "2200 [D loss: 0.626203, acc.: 68.75%] [G loss: 0.915556]\n",
      "2250 [D loss: 0.592569, acc.: 72.27%] [G loss: 0.929279]\n",
      "2300 [D loss: 0.595249, acc.: 73.44%] [G loss: 0.933791]\n",
      "2350 [D loss: 0.627455, acc.: 69.14%] [G loss: 0.883248]\n",
      "2400 [D loss: 0.587400, acc.: 75.00%] [G loss: 0.926997]\n",
      "2450 [D loss: 0.607987, acc.: 70.70%] [G loss: 0.892423]\n",
      "2500 [D loss: 0.619066, acc.: 67.19%] [G loss: 0.924484]\n",
      "2550 [D loss: 0.605222, acc.: 67.19%] [G loss: 0.880129]\n",
      "2600 [D loss: 0.624777, acc.: 65.62%] [G loss: 0.884748]\n",
      "2650 [D loss: 0.609046, acc.: 69.53%] [G loss: 0.874244]\n",
      "2700 [D loss: 0.629855, acc.: 68.75%] [G loss: 0.864928]\n",
      "2750 [D loss: 0.609835, acc.: 66.80%] [G loss: 0.890012]\n",
      "2800 [D loss: 0.610718, acc.: 70.70%] [G loss: 0.895369]\n",
      "2850 [D loss: 0.615855, acc.: 70.70%] [G loss: 0.899594]\n",
      "2900 [D loss: 0.618462, acc.: 71.48%] [G loss: 0.886188]\n",
      "2950 [D loss: 0.634595, acc.: 66.80%] [G loss: 0.880430]\n"
     ]
    }
   ],
   "source": [
    "gan.train(3000)"
   ]
  },
  {
   "cell_type": "code",
   "execution_count": 0,
   "metadata": {
    "colab": {},
    "colab_type": "code",
    "collapsed": true,
    "id": "PvG1bhHLHSkR"
   },
   "outputs": [],
   "source": []
  }
 ],
 "metadata": {
  "accelerator": "TPU",
  "colab": {
   "name": "gan_seminar.ipynb",
   "provenance": [],
   "version": "0.3.2"
  },
  "hide_input": false,
  "kernelspec": {
   "display_name": "Python 3",
   "language": "python",
   "name": "python3"
  },
  "language_info": {
   "codemirror_mode": {
    "name": "ipython",
    "version": 3
   },
   "file_extension": ".py",
   "mimetype": "text/x-python",
   "name": "python",
   "nbconvert_exporter": "python",
   "pygments_lexer": "ipython3",
   "version": "3.6.7"
  },
  "varInspector": {
   "cols": {
    "lenName": 16,
    "lenType": 16,
    "lenVar": 40
   },
   "kernels_config": {
    "python": {
     "delete_cmd_postfix": "",
     "delete_cmd_prefix": "del ",
     "library": "var_list.py",
     "varRefreshCmd": "print(var_dic_list())"
    },
    "r": {
     "delete_cmd_postfix": ") ",
     "delete_cmd_prefix": "rm(",
     "library": "var_list.r",
     "varRefreshCmd": "cat(var_dic_list()) "
    }
   },
   "types_to_exclude": [
    "module",
    "function",
    "builtin_function_or_method",
    "instance",
    "_Feature"
   ],
   "window_display": false
  }
 },
 "nbformat": 4,
 "nbformat_minor": 1
}
