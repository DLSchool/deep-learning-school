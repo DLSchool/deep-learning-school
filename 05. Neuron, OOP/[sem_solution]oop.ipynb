{
 "cells": [
  {
   "cell_type": "markdown",
   "metadata": {
    "colab_type": "text",
    "id": "3T_WSZ4nJ7RH"
   },
   "source": [
    "<img src=\"https://s8.hostingkartinok.com/uploads/images/2018/08/308b49fcfbc619d629fe4604bceb67ac.jpg\" width=500, height=450>\n",
    "<h3 style=\"text-align: center;\"><b>Физтех-Школа Прикладной математики и информатики (ФПМИ) МФТИ</b></h3>"
   ]
  },
  {
   "cell_type": "markdown",
   "metadata": {
    "colab_type": "text",
    "id": "wpTdrV80J8gA"
   },
   "source": [
    "---"
   ]
  },
  {
   "cell_type": "markdown",
   "metadata": {
    "colab_type": "text",
    "id": "cCLyYlLuJPHB"
   },
   "source": [
    "<h2 style=\"text-align: center;\"><b>Объектно-ориентированное программирование: решение</b></h2>"
   ]
  },
  {
   "cell_type": "markdown",
   "metadata": {
    "colab_type": "text",
    "id": "KbwJGrDWJ9le"
   },
   "source": [
    "---"
   ]
  },
  {
   "cell_type": "markdown",
   "metadata": {
    "colab_type": "text",
    "id": "FHHLDeySJPHD"
   },
   "source": [
    "Представьте себе, что вы проектируете автомобиль. Вы знаете, что автомобиль должен содержать двигатель, подвеску, две передних фары, 4 колеса, и т.д. Вы описываете все запчасти, из которых состоит ваш автомобиль, а также то, каким образом эти запчасти взаимодействуют между собой. Кроме того, вы описываете, что должен сделать пользователь, чтобы машина затормозила, или включился дальний свет фар. Результатом вашей работы будет некоторый эскиз. Вы только что разработали то, что в ООП называется класс."
   ]
  },
  {
   "cell_type": "code",
   "execution_count": 1,
   "metadata": {
    "colab": {},
    "colab_type": "code",
    "id": "fcuHLGkOJPHD"
   },
   "outputs": [
    {
     "data": {
      "text/html": [
       "<img src=\"https://cs5.pikabu.ru/post_img/big/2015/12/14/6/1450080142173639353.jpg\"/>"
      ],
      "text/plain": [
       "<IPython.core.display.Image object>"
      ]
     },
     "execution_count": 1,
     "metadata": {},
     "output_type": "execute_result"
    }
   ],
   "source": [
    "import numpy as np\n",
    "import matplotlib.pyplot as plt\n",
    "from IPython.display import Image\n",
    "from IPython.core.display import HTML \n",
    "Image(url= \"https://cs5.pikabu.ru/post_img/big/2015/12/14/6/1450080142173639353.jpg\")"
   ]
  },
  {
   "cell_type": "markdown",
   "metadata": {
    "colab_type": "text",
    "id": "g7ZL16jeJPHK"
   },
   "source": [
    "<b>Классы</b> играют роль фабрик экземпляров. Их атрибуты обеспечивают поведение – данные и функции – то есть наследуются всеми экземплярами, созданными от них (например, функция, вычисляющая стоимость поездки, исходя\n",
    "из расхода топлива)."
   ]
  },
  {
   "cell_type": "markdown",
   "metadata": {
    "colab_type": "text",
    "id": "DiLlu59tJPHM"
   },
   "source": [
    "<b>Экземпляры</b> представляют конкретные элементы программы. Их атрибуты хранят данные, которые могут отличаться в  конкретных объектах (например, количество колес)."
   ]
  },
  {
   "cell_type": "markdown",
   "metadata": {
    "colab_type": "text",
    "id": "DjjEhVzjJPHN"
   },
   "source": [
    "Команда интерпретации и запуска — python start.py"
   ]
  },
  {
   "cell_type": "code",
   "execution_count": 2,
   "metadata": {
    "colab": {},
    "colab_type": "code",
    "id": "ChIhtYV0JPHO"
   },
   "outputs": [
    {
     "name": "stdout",
     "output_type": "stream",
     "text": [
      "Hello, world!\n"
     ]
    }
   ],
   "source": [
    "class Start:\n",
    "    def say_hello (self):\n",
    "        print('Hello, world!')\n",
    "Start().say_hello() "
   ]
  },
  {
   "cell_type": "markdown",
   "metadata": {
    "colab_type": "text",
    "id": "P4JjgiSKJPHS"
   },
   "source": [
    "Создадим class Car: (object можно не указывать)"
   ]
  },
  {
   "cell_type": "code",
   "execution_count": 3,
   "metadata": {
    "colab": {},
    "colab_type": "code",
    "id": "rUfFzv3dJPHT"
   },
   "outputs": [
    {
     "data": {
      "text/plain": [
       "<__main__.Car at 0x170e79decc0>"
      ]
     },
     "execution_count": 3,
     "metadata": {},
     "output_type": "execute_result"
    }
   ],
   "source": [
    "class Car(object):\n",
    "    def __init__(self, model):\n",
    "        self.model = model\n",
    "\n",
    "my_car = Car(\"BMW\")\n",
    "my_car"
   ]
  },
  {
   "cell_type": "code",
   "execution_count": 4,
   "metadata": {
    "colab": {},
    "colab_type": "code",
    "id": "OpFgrzERJPHW"
   },
   "outputs": [
    {
     "data": {
      "text/plain": [
       "'BMW'"
      ]
     },
     "execution_count": 4,
     "metadata": {},
     "output_type": "execute_result"
    }
   ],
   "source": [
    "my_car.model"
   ]
  },
  {
   "cell_type": "markdown",
   "metadata": {
    "colab_type": "text",
    "id": "V9ORiSZNJPHZ"
   },
   "source": [
    "Попробуйте создать свой сlass Car, где при создании объекта будет указываться ещё и passengers, color, speed."
   ]
  },
  {
   "cell_type": "code",
   "execution_count": 5,
   "metadata": {
    "colab": {},
    "colab_type": "code",
    "id": "_5w6gFmmJPHb"
   },
   "outputs": [],
   "source": [
    "#your code here:\n",
    "class Car:\n",
    "    def __init__(self, model, passengers, color, speed):\n",
    "        self.model = model\n",
    "        self.passengers = passengers\n",
    "        self.color = color\n",
    "        self.speed = speed"
   ]
  },
  {
   "cell_type": "markdown",
   "metadata": {
    "colab_type": "text",
    "id": "Z72tPOwGJPHd"
   },
   "source": [
    "Теперь создайте несколько машин с разными параметрами - атрибутами экземпляров:"
   ]
  },
  {
   "cell_type": "code",
   "execution_count": 6,
   "metadata": {
    "colab": {},
    "colab_type": "code",
    "id": "RdyqUpzWJPHe"
   },
   "outputs": [],
   "source": [
    "#your code here:\n",
    "bmw = Car(\"BMW\", 4, \"red\", 5)\n",
    "ferrari = Car(\"Ferrari\", 2, \"black\", 10)\n",
    "ford = Car(\"Ford\", 6, \"blue\", 6)"
   ]
  },
  {
   "cell_type": "markdown",
   "metadata": {
    "colab_type": "text",
    "id": "jcEhIHhHJPHg"
   },
   "source": [
    "Теперь попробуйте покрасить любую машины в любимый ваш цвет:"
   ]
  },
  {
   "cell_type": "code",
   "execution_count": 7,
   "metadata": {
    "colab": {},
    "colab_type": "code",
    "id": "f7uVWj7kJPHi"
   },
   "outputs": [
    {
     "data": {
      "text/plain": [
       "'yellow'"
      ]
     },
     "execution_count": 7,
     "metadata": {},
     "output_type": "execute_result"
    }
   ],
   "source": [
    "#your code here:\n",
    "bmw.color = 'yellow'\n",
    "bmw.color"
   ]
  },
  {
   "cell_type": "code",
   "execution_count": null,
   "metadata": {
    "colab": {},
    "colab_type": "code",
    "id": "Zftcm1rMaY7x"
   },
   "outputs": [],
   "source": []
  },
  {
   "cell_type": "markdown",
   "metadata": {
    "colab_type": "text",
    "id": "tYkPJH5jJPHm"
   },
   "source": [
    "Добавим к class Car метод для работы с экземплярами данного класса - атрибут класса "
   ]
  },
  {
   "cell_type": "code",
   "execution_count": 8,
   "metadata": {
    "colab": {},
    "colab_type": "code",
    "id": "PEDcyi48JPHn"
   },
   "outputs": [],
   "source": [
    "class Car:\n",
    "    def __init__(self, model, passengers, color, speed):\n",
    "        self.model = model\n",
    "        self.passengers = passengers\n",
    "        self.color = color\n",
    "        self.speed = speed\n",
    "    def set_cost(self, cost):\n",
    "        self.cost = cost\n",
    "    "
   ]
  },
  {
   "cell_type": "code",
   "execution_count": 9,
   "metadata": {
    "colab": {},
    "colab_type": "code",
    "id": "2fzdFX0eJPHq"
   },
   "outputs": [
    {
     "data": {
      "text/plain": [
       "<function __main__.Car.set_cost(self, cost)>"
      ]
     },
     "execution_count": 9,
     "metadata": {},
     "output_type": "execute_result"
    }
   ],
   "source": [
    "Car.set_cost"
   ]
  },
  {
   "cell_type": "markdown",
   "metadata": {
    "colab_type": "text",
    "id": "kduNSi3qJPHv"
   },
   "source": [
    "Установим цену на BMW:"
   ]
  },
  {
   "cell_type": "code",
   "execution_count": 10,
   "metadata": {
    "colab": {},
    "colab_type": "code",
    "id": "n96E5WBaJPHw"
   },
   "outputs": [
    {
     "data": {
      "text/plain": [
       "3000000"
      ]
     },
     "execution_count": 10,
     "metadata": {},
     "output_type": "execute_result"
    }
   ],
   "source": [
    "bmw = Car(\"BMW\", 4, \"red\", 5)\n",
    "bmw.set_cost(3 * 10 ** 6)\n",
    "bmw.cost"
   ]
  },
  {
   "cell_type": "markdown",
   "metadata": {
    "colab_type": "text",
    "id": "A2lqJHCPJPH0"
   },
   "source": [
    "Добавьте к class Car метод, который вычисляет стоимость машины через несколько лет:"
   ]
  },
  {
   "cell_type": "code",
   "execution_count": 11,
   "metadata": {
    "colab": {},
    "colab_type": "code",
    "id": "IpTbLuD8JPH0"
   },
   "outputs": [],
   "source": [
    "#class Car:\n",
    "    #...\n",
    "    #def new_cost(..., year):\n",
    "        #k = year ** 2 * (3 * 10 ** 4)    коэффициент уменьшение цены\n",
    "        #...\n",
    "#your code hear\n",
    "class Car:\n",
    "    def __init__(self, model, passengers, color, speed):\n",
    "        self.model = model\n",
    "        self.passengers = passengers\n",
    "        self.color = color\n",
    "        self.speed = speed\n",
    "    def set_cost(self, cost):\n",
    "        self.cost = cost\n",
    "    def new_cost(self, year):\n",
    "        k = year ** 2 * (3 * 10 ** 4)\n",
    "        self.cost = self.cost - k\n",
    "        return self.cost"
   ]
  },
  {
   "cell_type": "markdown",
   "metadata": {
    "colab_type": "text",
    "id": "PcSDO2ABJPH3"
   },
   "source": [
    "Вычислите эту стоимость в течение 5 лет с периодом 1 год и нарисуте график:"
   ]
  },
  {
   "cell_type": "code",
   "execution_count": 12,
   "metadata": {
    "colab": {},
    "colab_type": "code",
    "id": "p42nGnKeJPH4"
   },
   "outputs": [
    {
     "data": {
      "image/png": "[encoded data removed]",
      "text/plain": [
       "<Figure size 432x288 with 1 Axes>"
      ]
     },
     "metadata": {},
     "output_type": "display_data"
    }
   ],
   "source": [
    "#your code hear\n",
    "bmw = Car(\"BMW\", 4, \"red\", 5)\n",
    "bmw.set_cost(3 * 10 ** 6)\n",
    "years = range(0, 6)\n",
    "costs = [bmw.new_cost(year) for year in years]\n",
    "plt.plot(years, costs)\n",
    "plt.show()"
   ]
  }
 ],
 "metadata": {
  "colab": {
   "collapsed_sections": [],
   "name": "OOP_admin.ipynb",
   "provenance": [],
   "version": "0.3.2"
  },
  "kernelspec": {
   "display_name": "Python 3",
   "language": "python",
   "name": "python3"
  },
  "language_info": {
   "codemirror_mode": {
    "name": "ipython",
    "version": 3
   },
   "file_extension": ".py",
   "mimetype": "text/x-python",
   "name": "python",
   "nbconvert_exporter": "python",
   "pygments_lexer": "ipython3",
   "version": "3.6.5"
  }
 },
 "nbformat": 4,
 "nbformat_minor": 1
}
