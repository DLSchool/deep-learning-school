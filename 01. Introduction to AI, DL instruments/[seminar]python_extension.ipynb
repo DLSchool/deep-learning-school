{
  "nbformat": 4,
  "nbformat_minor": 0,
  "metadata": {
    "colab": {
      "name": "python_extension.ipynb",
      "version": "0.3.2",
      "provenance": [],
      "collapsed_sections": [
        "s6H55PRg2d1p",
        "6gAv4fNm2d2B",
        "N6Ns0rB52d2F",
        "ZaJTlEtC2d2Y",
        "AEP_z6nS8uzF",
        "VyZMMeIr2d2e",
        "XXPAkPSd2d2u",
        "cglQ6JNB2d2v",
        "jxfw8Oia2d2y",
        "KrCLYmVs2oqL",
        "ba4m15HQ2d3C",
        "4EVeUCtI2d3J",
        "sNRgMcED2d3L"
      ]
    },
    "kernelspec": {
      "display_name": "Python 3",
      "language": "python",
      "name": "python3"
    }
  },
  "cells": [
    {
      "metadata": {
        "id": "Stge820q2d1d",
        "colab_type": "text"
      },
      "cell_type": "markdown",
      "source": [
        "<h2 style=\"text-align: center;\"><b>Python. Занятие 1: Дополнение</b></h2>"
      ]
    },
    {
      "metadata": {
        "id": "7XQ42g-z2d1j",
        "colab_type": "text"
      },
      "cell_type": "markdown",
      "source": [
        "<img align=left src=\"https://cdn.fedoramagazine.org/wp-content/uploads/2015/11/Python_logo.png\" style=\"height:160px;\" />\n",
        "\n",
        "<img align=center src=\"https://1.bp.blogspot.com/-16utHnlB3Ao/V4tpG8NBX0I/AAAAAAAAA7M/vDQ1p40JpE8M34eCr-UdriSV04Dn8au7QCLcB/s1600/jupyter-logo.png\" style=\"height:90px;\" />"
      ]
    },
    {
      "metadata": {
        "id": "l8V2fdfy2d1m",
        "colab_type": "text"
      },
      "cell_type": "markdown",
      "source": [
        "Этот ноутбук -- дополнение к python_basics.ipynb. Здесь разобраны некоторые полезные конструкции и функции языка Python. Опять же, ноутбук не претендует на охват всех возможностей языка!"
      ]
    },
    {
      "metadata": {
        "id": "s6H55PRg2d1p",
        "colab_type": "text"
      },
      "cell_type": "markdown",
      "source": [
        "### list comprehensions"
      ]
    },
    {
      "metadata": {
        "id": "myYtvrEH2d1r",
        "colab_type": "text"
      },
      "cell_type": "markdown",
      "source": [
        "<img align=center src=\"http://images7.memedroid.com/images/UPLOADED973/596e4c96650e5.jpeg\" style=\"height:400px;\"/>"
      ]
    },
    {
      "metadata": {
        "id": "81c3upgh2d1t",
        "colab_type": "text"
      },
      "cell_type": "markdown",
      "source": [
        "Давайте зададимся вопросом: как создать массив с числами от 1 до 100, которые делятся на 5?\n",
        "\n",
        "* Решение 1:\n",
        "\n",
        "```\n",
        "mas = []\n",
        "for i in range(100):\n",
        "    if i % 5 == 0:\n",
        "        mas.append(i)\n",
        "```\n",
        "\n",
        "Это довольно долго писать и в коде выглядит некомпактно.\n",
        "\n",
        "* Решение 2:"
      ]
    },
    {
      "metadata": {
        "id": "nd6jZWAl2d1v",
        "colab_type": "code",
        "colab": {}
      },
      "cell_type": "code",
      "source": [
        "mas = [x for x in range(100) if x%5==0]\n",
        "mas"
      ],
      "execution_count": 0,
      "outputs": []
    },
    {
      "metadata": {
        "id": "MUL5tuNP2d10",
        "colab_type": "text"
      },
      "cell_type": "markdown",
      "source": [
        "Здесь код записан так, что его можно легко можно прочитать на естественном языке: \n",
        "\n",
        "\" положи в массив mas такие числа х из отрезка [0, 100], что х делится на 5\""
      ]
    },
    {
      "metadata": {
        "id": "m1vuSXH_2d12",
        "colab_type": "text"
      },
      "cell_type": "markdown",
      "source": [
        "Таким же образом можно записывать в питоне многие другие конструкции такого типа. Вот примеры еще нескольких:"
      ]
    },
    {
      "metadata": {
        "id": "b0Keh_lR2d13",
        "colab_type": "code",
        "colab": {}
      },
      "cell_type": "code",
      "source": [
        "# массив квадратов чисел от 0 до 9\n",
        "mas = [x**2 for x in range(10)]\n",
        "\n",
        "# массив, на нечетных индексах которого находятся слова \"odd\", а четных -- \"even\"\n",
        "mas = [\"odd\" if x%2==1 else \"even\" for x in range(10)]"
      ],
      "execution_count": 0,
      "outputs": []
    },
    {
      "metadata": {
        "id": "1dN6iNkD2d17",
        "colab_type": "text"
      },
      "cell_type": "markdown",
      "source": [
        "Так же можно создавать словари:"
      ]
    },
    {
      "metadata": {
        "id": "EVl9tRRU2d19",
        "colab_type": "code",
        "colab": {}
      },
      "cell_type": "code",
      "source": [
        "d = {word: i for i, word in enumerate([\"zero\", \"first\", \"second\"])}\n",
        "d"
      ],
      "execution_count": 0,
      "outputs": []
    },
    {
      "metadata": {
        "id": "6gAv4fNm2d2B",
        "colab_type": "text"
      },
      "cell_type": "markdown",
      "source": [
        "### Задание 1\n",
        "\n",
        "Пусть есть массив mas. С помощью list comprehensions создайте второй массив, где на четных индексах будут находиться соответствующие элементы массива mas, умноженные на 10, а на нечетных индексах -- единицы\n",
        "\n"
      ]
    },
    {
      "metadata": {
        "id": "zkMjCQtL2d2C",
        "colab_type": "code",
        "colab": {}
      },
      "cell_type": "code",
      "source": [
        "# your code here"
      ],
      "execution_count": 0,
      "outputs": []
    },
    {
      "metadata": {
        "id": "EvsoTGB72d2E",
        "colab_type": "text"
      },
      "cell_type": "markdown",
      "source": [
        "---------------"
      ]
    },
    {
      "metadata": {
        "id": "N6Ns0rB52d2F",
        "colab_type": "text"
      },
      "cell_type": "markdown",
      "source": [
        "### functions, lambdas"
      ]
    },
    {
      "metadata": {
        "id": "MnASYznX2d2G",
        "colab_type": "text"
      },
      "cell_type": "markdown",
      "source": [
        "**функции**"
      ]
    },
    {
      "metadata": {
        "id": "MtrFRSQA2d2H",
        "colab_type": "text"
      },
      "cell_type": "markdown",
      "source": [
        "Это такие объекты в питоне, которые принимают некоторые параметры (переменные), исполняют некоторый код внутри себя и, возможно, возвращают некоторое значение. \n",
        "\n",
        "Рассмотрим баристу в кофейне. Он -- \"функция\", которая умеет делать кофе. В качестве параметров вы говорите ему размер стакана кофе, который хотите получить и количество сахара, которое туда положить. Далее бариста делает вам кофе и отдает его вам. \n",
        "\n",
        "В питоновском коде это можно записать примерно так:"
      ]
    },
    {
      "metadata": {
        "id": "8tIsKz772d2I",
        "colab_type": "code",
        "colab": {}
      },
      "cell_type": "code",
      "source": [
        "def make_coffee(size, sugar_dose=3):\n",
        "    if sugar_dose > 5:\n",
        "        return 'Too much sugar! Be careful! :('\n",
        "    else:\n",
        "        return 'Done: cup of {0} ml size; amount of sugar = {1}'.format(size, sugar_dose)"
      ],
      "execution_count": 0,
      "outputs": []
    },
    {
      "metadata": {
        "id": "-3PhpyuG2d2L",
        "colab_type": "text"
      },
      "cell_type": "markdown",
      "source": [
        "То есть, чтобы определить функцию, нужно написать ключевое слово `def`, далее название функции и в круглых скобочках список параметров, которые она принимает. Далее после двоеточия со следующей строки идет тело функции -- тот код, который функция выполняет. Код функции пишется с отступом в 4 пробела от уровня `def`"
      ]
    },
    {
      "metadata": {
        "id": "XyacAiPW2d2N",
        "colab_type": "text"
      },
      "cell_type": "markdown",
      "source": [
        "Давайте, например, напишем функцию, которая принимает переменную x и вычисляет $x^2$"
      ]
    },
    {
      "metadata": {
        "id": "eLjDjEUM2d2O",
        "colab_type": "code",
        "colab": {}
      },
      "cell_type": "code",
      "source": [
        "def square(x):\n",
        "    y = x**2\n",
        "    return y\n",
        "\n",
        "square(5)"
      ],
      "execution_count": 0,
      "outputs": []
    },
    {
      "metadata": {
        "id": "MoXtVj-t2d2R",
        "colab_type": "text"
      },
      "cell_type": "markdown",
      "source": [
        "Существует еще один способ записи функций -- **lambda**-выражения. С использованием них наша функция square выше выглядела бы так:"
      ]
    },
    {
      "metadata": {
        "id": "1gN72_E92d2S",
        "colab_type": "code",
        "colab": {}
      },
      "cell_type": "code",
      "source": [
        "square = lambda x: x**2\n",
        "\n",
        "square(5)"
      ],
      "execution_count": 0,
      "outputs": []
    },
    {
      "metadata": {
        "id": "vKExTFca2d2W",
        "colab_type": "text"
      },
      "cell_type": "markdown",
      "source": [
        "Чтобы записать функцию в виде lambda, нужно написать ключевое слово lambda, после список переменных, которые функция принимает (в нашем случае это x), а затем после ':' -- возвращаемое функцией значение.   "
      ]
    },
    {
      "metadata": {
        "id": "IUYJlUDf2d2X",
        "colab_type": "text"
      },
      "cell_type": "markdown",
      "source": [
        "Такой способ записи короче, но менее читабельный. Не нужно использовать его везде. Есть моменты, в которых он удобен, например, при задании ключа при сортировке (об этом ниже в этом ноутбуке), то етсь, когда вам нужно **передать функцию в другую функцию**"
      ]
    },
    {
      "metadata": {
        "id": "3V0KEBtp8qs9",
        "colab_type": "text"
      },
      "cell_type": "markdown",
      "source": [
        "--------------"
      ]
    },
    {
      "metadata": {
        "id": "ZaJTlEtC2d2Y",
        "colab_type": "text"
      },
      "cell_type": "markdown",
      "source": [
        "### Задание 2\n",
        "\n",
        "Напишите функцию, которая принимает массив и индекс i и возвращает произведение всех элементов массива, находящийхся на этом индексах от 0 до i"
      ]
    },
    {
      "metadata": {
        "id": "mDCk7UMa2d2Z",
        "colab_type": "code",
        "colab": {}
      },
      "cell_type": "code",
      "source": [
        "# your code here"
      ],
      "execution_count": 0,
      "outputs": []
    },
    {
      "metadata": {
        "id": "V9DgiraX2d2d",
        "colab_type": "text"
      },
      "cell_type": "markdown",
      "source": [
        "------------------"
      ]
    },
    {
      "metadata": {
        "id": "AEP_z6nS8uzF",
        "colab_type": "text"
      },
      "cell_type": "markdown",
      "source": [
        "### Print"
      ]
    },
    {
      "metadata": {
        "id": "KvGSpU2-8xB4",
        "colab_type": "text"
      },
      "cell_type": "markdown",
      "source": [
        "`print(x)`, как известно, выводит на экран содержимое переменной x и далее перевод строки ('\\n'). Но что если мы не хотим, чтобы после вывода x выводился перевод строки? Например, если мы выводим целые числа от 1 до 100 в цикле и не хотим, чтобы каждое число выводилось на новой строке, а, например, хотим вывести их все через пробел.\n",
        "\n",
        "Для этого в print  можно передать аргумент end со значением, которое вы хотите, чтобы выводилось после вывода х:"
      ]
    },
    {
      "metadata": {
        "id": "ege7qvE59Yvs",
        "colab_type": "code",
        "colab": {}
      },
      "cell_type": "code",
      "source": [
        "for i in range(1, 10):\n",
        "  # после i будет выводиться пустая строка\n",
        "  # т.е. все числа от 1 до 9 выведутся слитно\n",
        "  print(i, end='')"
      ],
      "execution_count": 0,
      "outputs": []
    },
    {
      "metadata": {
        "id": "5FFIt2BV9jOZ",
        "colab_type": "code",
        "colab": {}
      },
      "cell_type": "code",
      "source": [
        "for i in range(1, 10):\n",
        "  # после i будет выводиться пробел\n",
        "  # т.е. все числа от 1 до 9 выведутся через пробел\n",
        "  print(i, end=' ')"
      ],
      "execution_count": 0,
      "outputs": []
    },
    {
      "metadata": {
        "id": "jgX6babr9m1m",
        "colab_type": "code",
        "colab": {}
      },
      "cell_type": "code",
      "source": [
        "for i in range(1, 10):\n",
        "  # заметьте, что после последнего числа разделитель тоже вывелся\n",
        "  print(i, end='|')"
      ],
      "execution_count": 0,
      "outputs": []
    },
    {
      "metadata": {
        "id": "VyZMMeIr2d2e",
        "colab_type": "text"
      },
      "cell_type": "markdown",
      "source": [
        "### map, filter"
      ]
    },
    {
      "metadata": {
        "id": "DLRxJkIF2d2f",
        "colab_type": "text"
      },
      "cell_type": "markdown",
      "source": [
        "Функция **map(func, iterable)** - выполняет преобразование func над элементами iterable и возвращает новый iterable.\n",
        "\n",
        "Проще говоря, func -- это функция, которая принимает элемент того же типа, что элементы iterable, и возвращает некий элемент (возможно, другого типа). iterable -- некоторый iterable элементов (list, tuple, ...). \n",
        "\n",
        "Пример:"
      ]
    },
    {
      "metadata": {
        "id": "dFqQP8K42d2f",
        "colab_type": "code",
        "colab": {}
      },
      "cell_type": "code",
      "source": [
        "words = ['I', 'am', 'iterable', 'of', 'words']"
      ],
      "execution_count": 0,
      "outputs": []
    },
    {
      "metadata": {
        "id": "dczQm2uE2d2j",
        "colab_type": "code",
        "colab": {}
      },
      "cell_type": "code",
      "source": [
        "letter_counts = list(map(lambda x: len(x), words))\n",
        "\n",
        "print(words)\n",
        "print()\n",
        "print(letter_counts)"
      ],
      "execution_count": 0,
      "outputs": []
    },
    {
      "metadata": {
        "id": "x2_JuQNU2d2n",
        "colab_type": "text"
      },
      "cell_type": "markdown",
      "source": [
        "Также на место iterable можно поставить сразу несколько iterable -- например, 3 list'a. Тогда функция func должны принимать стлько аргументов, сколько iterable вы передаете, а возвращать все равно один. В func в качестве параметров будут передаваться по одному элементу из каждого iterable.\n",
        "\n",
        "Пример:"
      ]
    },
    {
      "metadata": {
        "id": "G3juNWvH2d2o",
        "colab_type": "code",
        "colab": {}
      },
      "cell_type": "code",
      "source": [
        "list1 = [1,2,3,4]\n",
        "list2 = [11, 12, 13, 14, 15]\n",
        "list3 = [101, 102, 103]\n",
        "\n",
        "triple_sum = list(map(lambda x, y, z: x + y + z, list1, list2, list3))\n",
        "print(triple_sum)"
      ],
      "execution_count": 0,
      "outputs": []
    },
    {
      "metadata": {
        "id": "KV55a46Y2d2q",
        "colab_type": "text"
      },
      "cell_type": "markdown",
      "source": [
        "**filter(predicate, iterable)** - оставляет только те элементы из iterable, для которых верен предикат predicate (предикат -- это функция, возвращающая значение типа bool. filter оставляет только те значения x из iterable, для которых predicate(x)==True):"
      ]
    },
    {
      "metadata": {
        "id": "vXmqB7tP2d2q",
        "colab_type": "code",
        "colab": {}
      },
      "cell_type": "code",
      "source": [
        "mixed = ['мак', 'просо', 'мак', 'мак', 'просо', 'мак', 'просо', 'просо', 'просо', 'мак']\n",
        "\n",
        "only_mac = list(filter(lambda x: x == 'мак', mixed))\n",
        "print(only_mac)"
      ],
      "execution_count": 0,
      "outputs": []
    },
    {
      "metadata": {
        "id": "XXPAkPSd2d2u",
        "colab_type": "text"
      },
      "cell_type": "markdown",
      "source": [
        "### Задание 3\n",
        "\n",
        "Напишите одну строчку кода, которая из массива целых чисел mas сделает массив, в котором будут числа из массива mas, которые делятся на 3, возведенные в квадрат"
      ]
    },
    {
      "metadata": {
        "id": "ht2hqVih2d2u",
        "colab_type": "code",
        "colab": {}
      },
      "cell_type": "code",
      "source": [
        "# your code here"
      ],
      "execution_count": 0,
      "outputs": []
    },
    {
      "metadata": {
        "id": "cglQ6JNB2d2v",
        "colab_type": "text"
      },
      "cell_type": "markdown",
      "source": [
        "### Задание 4\n",
        "\n",
        "Дан массив строк: ['agfkd.,f', 'Qksdf;sb&..', 'asdoo*', 'bgf...d', 're54()kj[]].']\n",
        "\n",
        "Создайте список, состоящий из количества точек в каждой строке. Выведите его\n",
        "Создайте новый список, в котором будут только строки, в которых более 2-х точек. Выведите его.\n",
        "\n",
        "\n",
        "Циклами пользоваться нельзя."
      ]
    },
    {
      "metadata": {
        "id": "ecpr7p9p2d2w",
        "colab_type": "code",
        "colab": {}
      },
      "cell_type": "code",
      "source": [
        "# your code here"
      ],
      "execution_count": 0,
      "outputs": []
    },
    {
      "metadata": {
        "id": "FtZ6H9sd2d2x",
        "colab_type": "text"
      },
      "cell_type": "markdown",
      "source": [
        "-------------"
      ]
    },
    {
      "metadata": {
        "id": "jxfw8Oia2d2y",
        "colab_type": "text"
      },
      "cell_type": "markdown",
      "source": [
        "### files"
      ]
    },
    {
      "metadata": {
        "id": "wT0VxQFL2d2z",
        "colab_type": "text"
      },
      "cell_type": "markdown",
      "source": [
        "Из питона можно работать с файлами, которые лежат на диске -- открывать их, читать содержимое, записывать данные в файл, читать файл построчно."
      ]
    },
    {
      "metadata": {
        "id": "qRwUksBL2d2z",
        "colab_type": "text"
      },
      "cell_type": "markdown",
      "source": [
        "Чтобы открыть файл, нужно указать путь к файлу функции `open`. Путь может быть относительным той директории, в которой находится этот ноутбук, или абсолютным (про пути: http://phpfaq.ru/newbie/paths)\n",
        "\n",
        "Кроме пути к файлу функции open необходимо указать мод, в котором мы откроем файл -- на чтение, на запись, на дозапись и т.п. Ниже приведена таблица со значениями модов. "
      ]
    },
    {
      "metadata": {
        "id": "Q29f21zO2d20",
        "colab_type": "text"
      },
      "cell_type": "markdown",
      "source": [
        "| Режим | Обозначение |\n",
        "|-------|-------------|\n",
        "| **'r'**  | Открытие на **чтение** (является значением по умолчанию) |\n",
        "| **'rb'** | Открытие на **чтение**, в предположении, что будут считываться **байты** |\n",
        "| **'w'** | Открытие на **запись**, содержимое файла удаляется. Если файла не существует, создается новый |\n",
        "| **'wb**' | Открытие на **запись байтов**, содержимое файла удаляется. Если файла не существует, создается новый |\n",
        "| **'a'** | Открытие на **дозапись**, информация добавляется **в конец файла** |\n",
        "| **'r+'** | Открыть файл на **чтение И запись**. Если файла нет, **новый НЕ создаётся** |\n",
        "| **'a+'** | Открыть файл на **чтение И запись в конец файла**. Если файла нет, **новый создаётся** |\n",
        "| **'t'** | Открытие файла **как текстового** (по умолчанию) |"
      ]
    },
    {
      "metadata": {
        "id": "J3P8al_k2d20",
        "colab_type": "text"
      },
      "cell_type": "markdown",
      "source": [
        "Откроем файл с первым ноутбуком по питону:"
      ]
    },
    {
      "metadata": {
        "id": "3gn5Zcfz2d21",
        "colab_type": "code",
        "colab": {}
      },
      "cell_type": "code",
      "source": [
        "# первый ноутбук лежит в той же папке, что и этот\n",
        "path = './python_basics.ipynb'\n",
        "# откроем на чтение\n",
        "file = open(path, mode='r')"
      ],
      "execution_count": 0,
      "outputs": []
    },
    {
      "metadata": {
        "id": "wbTU9stx2d22",
        "colab_type": "text"
      },
      "cell_type": "markdown",
      "source": [
        "Теперь мы можем читать из файла. Давайте посмотрим, как читать построчно:"
      ]
    },
    {
      "metadata": {
        "id": "uMJs7yDS2d24",
        "colab_type": "code",
        "colab": {}
      },
      "cell_type": "code",
      "source": [
        "for i, line in enumerate(file): # каждую итерацию цикла в line запишется очередная строка файла \n",
        "    print(line)\n",
        "    # если мы вывели 10 строк, остановим цикл\n",
        "    if i == 10:\n",
        "        break"
      ],
      "execution_count": 0,
      "outputs": []
    },
    {
      "metadata": {
        "id": "5BC5wCOK2d25",
        "colab_type": "text"
      },
      "cell_type": "markdown",
      "source": [
        "Можно прочитать и весь файл целиком:"
      ]
    },
    {
      "metadata": {
        "id": "1HcC-IMn2d25",
        "colab_type": "code",
        "colab": {}
      },
      "cell_type": "code",
      "source": [
        "content = file.read()"
      ],
      "execution_count": 0,
      "outputs": []
    },
    {
      "metadata": {
        "id": "weee20xd2d27",
        "colab_type": "text"
      },
      "cell_type": "markdown",
      "source": [
        "Содержимое файла прочитается и запишется в переменную content в виду строки. Давайте выведем первые 10 ее символов:"
      ]
    },
    {
      "metadata": {
        "id": "WkKRy4j62d28",
        "colab_type": "code",
        "colab": {}
      },
      "cell_type": "code",
      "source": [
        "content[:10]"
      ],
      "execution_count": 0,
      "outputs": []
    },
    {
      "metadata": {
        "id": "L4_SLVFl2d29",
        "colab_type": "text"
      },
      "cell_type": "markdown",
      "source": [
        "Читать файл целиком не целесообразно, если файл большой -- это долго и вы займете слишком много места в оперативной памяти."
      ]
    },
    {
      "metadata": {
        "id": "-68ZUr-k2d2-",
        "colab_type": "text"
      },
      "cell_type": "markdown",
      "source": [
        "Давайте теперь запишем строку \"Hello world!\\n\" в новый файл \"hello.txt\":"
      ]
    },
    {
      "metadata": {
        "id": "0dMvTXYx2d2-",
        "colab_type": "code",
        "colab": {}
      },
      "cell_type": "code",
      "source": [
        "file = open(\"hello.txt\", 'w')\n",
        "# метод write возвращает количество записанных символов в файл -- в нашем случае, 13\n",
        "# это нужно, чтобы понимать, все ли записалось, что вы хотели (иногда возникают ошибки записи и пишется не все)\n",
        "file.write('Hello world!\\n')"
      ],
      "execution_count": 0,
      "outputs": []
    },
    {
      "metadata": {
        "id": "Tc0sK-MI2d2_",
        "colab_type": "text"
      },
      "cell_type": "markdown",
      "source": [
        "Теперь можно прочитать этот файл:"
      ]
    },
    {
      "metadata": {
        "id": "NaMeUMeF2d3A",
        "colab_type": "code",
        "colab": {}
      },
      "cell_type": "code",
      "source": [
        "file = open('hello.txt', 'r')\n",
        "file.read()"
      ],
      "execution_count": 0,
      "outputs": []
    },
    {
      "metadata": {
        "id": "8ChR-98q2d3B",
        "colab_type": "text"
      },
      "cell_type": "markdown",
      "source": [
        "-----------------"
      ]
    },
    {
      "metadata": {
        "id": "KrCLYmVs2oqL",
        "colab_type": "text"
      },
      "cell_type": "markdown",
      "source": [
        "### sort"
      ]
    },
    {
      "metadata": {
        "id": "anzGJvwo2wL9",
        "colab_type": "text"
      },
      "cell_type": "markdown",
      "source": [
        "Как и во многих языках программирования, в Python есть встроенные функции поиска максимума, минимума в массиве, сортировки массива и т.д. \n",
        "\n",
        "Сейчас поговорим о сортировке. \n",
        "\n",
        "Отсортировать iterable просто:"
      ]
    },
    {
      "metadata": {
        "id": "VioxREsn2uQW",
        "colab_type": "code",
        "colab": {}
      },
      "cell_type": "code",
      "source": [
        "mas1 = [3, 6, 98, 34, -1, 7]\n",
        "mas2 = ['stroka', 'abcba', 'a', 'bababaa']\n",
        "\n",
        "# sorted НЕ изменяет массив, она возвращает отсортированную копию массива\n",
        "# это, в частности, позволяет сортировать tuple (который нельзя изменять)\n",
        "print(sorted(mas1))\n",
        "print(sorted(mas2))"
      ],
      "execution_count": 0,
      "outputs": []
    },
    {
      "metadata": {
        "id": "x_KaMm354aBP",
        "colab_type": "text"
      },
      "cell_type": "markdown",
      "source": [
        "При этом, как видно, по умолчанию массив из чисел сортируется по возрастанию, массив строк -- в алфавитном порядке.\n",
        "\n",
        "Что можно сделать, если мы хотим отсортировать массив не так, как его сортирует `sorted` по умолчанию?\n",
        "\n",
        "Оказывается, в sorted можно передать аргумент `key` -- ключ, по которому мы хотим отсортировать наш массив. Рассмотрим пример: пусть у нас есть массив пар (кортежей размера 2) и мы хотим отсортировать его по **второму** элементу кортежа:"
      ]
    },
    {
      "metadata": {
        "id": "qe7cOxQm5Bhq",
        "colab_type": "code",
        "colab": {}
      },
      "cell_type": "code",
      "source": [
        "t = [(4, 5), (97, 2), (8, 291), (-1, 67), (98, -10), (8, 34)]"
      ],
      "execution_count": 0,
      "outputs": []
    },
    {
      "metadata": {
        "id": "ariklxy95JwF",
        "colab_type": "text"
      },
      "cell_type": "markdown",
      "source": [
        "Если мы просто вызовем sorted, то получим следующее: массив отсортируется по первому элементу кортежей, а если первые элементы двух кортежей равны, то первым будет тот, у которого второй элемент меньше:"
      ]
    },
    {
      "metadata": {
        "id": "UxRhdj2L5JEy",
        "colab_type": "code",
        "colab": {}
      },
      "cell_type": "code",
      "source": [
        "sorted(t)"
      ],
      "execution_count": 0,
      "outputs": []
    },
    {
      "metadata": {
        "id": "_ARTmNd85Zgf",
        "colab_type": "text"
      },
      "cell_type": "markdown",
      "source": [
        "Но это не то, что мы хотели, мы хотели отсортировать массив по второму элементу кортежей. \n",
        "\n",
        "Вот как это сделать с помощью передачи ключа сортировки в sorted:"
      ]
    },
    {
      "metadata": {
        "id": "WBOspLlf5Ytt",
        "colab_type": "code",
        "colab": {}
      },
      "cell_type": "code",
      "source": [
        "sorted(t, key=lambda x: x[1])"
      ],
      "execution_count": 0,
      "outputs": []
    },
    {
      "metadata": {
        "id": "8R9RUUVt6pGh",
        "colab_type": "text"
      },
      "cell_type": "markdown",
      "source": [
        "В качестве значения `key` нужно передать функцию, которая принимает элемент iterable, который сы сортируем (в нашем случае это tuple) и возвращает значение, по которому будет выполняться сортировка (в нашем случае возвращаемое значение -- x[1] -- первый элемент кортежа)"
      ]
    },
    {
      "metadata": {
        "id": "blYetp6z7Cba",
        "colab_type": "text"
      },
      "cell_type": "markdown",
      "source": [
        "Также у list есть метод `sort`, который выполняет сортировку массива, **изменяя сам массив**:"
      ]
    },
    {
      "metadata": {
        "id": "s0184doI6omu",
        "colab_type": "code",
        "colab": {}
      },
      "cell_type": "code",
      "source": [
        "t = [(4, 5), (97, 2), (8, 291), (-1, 67), (98, -10), (8, 34)]\n",
        "t.sort()\n",
        "t"
      ],
      "execution_count": 0,
      "outputs": []
    },
    {
      "metadata": {
        "id": "DQuGaVmY7Ud1",
        "colab_type": "text"
      },
      "cell_type": "markdown",
      "source": [
        "В .sort() также пожно передавать ключ сортировки."
      ]
    },
    {
      "metadata": {
        "id": "ba4m15HQ2d3C",
        "colab_type": "text"
      },
      "cell_type": "markdown",
      "source": [
        "### модуль collections\n",
        "\n",
        "Collections -- это модуль (библиотека), где реализованы многие полезные функции. Подробнее можно прочитать в документации, а сейчас познакомимся с двумя самыми часто используемыми вещами оттуда."
      ]
    },
    {
      "metadata": {
        "id": "SlH7vb7d2d3C",
        "colab_type": "code",
        "colab": {}
      },
      "cell_type": "code",
      "source": [
        "import collections"
      ],
      "execution_count": 0,
      "outputs": []
    },
    {
      "metadata": {
        "id": "Hvn6ThiR2d3D",
        "colab_type": "text"
      },
      "cell_type": "markdown",
      "source": [
        "**defaultdict()** - класс словаря, у которого есть значение по умолчанию. По сути, это тот же dict со всеми его функциями и свойствами, но у defaultdict есть значение по умолчанию: в обычном dict, если мы предварительно не положили в него какое-нибудь значение по ключу key, попытка получить значение по ключу key обкрнется ошибкой:"
      ]
    },
    {
      "metadata": {
        "id": "vX1ei1FM2d3D",
        "colab_type": "code",
        "colab": {}
      },
      "cell_type": "code",
      "source": [
        "d = dict()\n",
        "d['key']"
      ],
      "execution_count": 0,
      "outputs": []
    },
    {
      "metadata": {
        "id": "CVCJ6Knk2d3F",
        "colab_type": "text"
      },
      "cell_type": "markdown",
      "source": [
        "в defaultdict при объявлении словаря мы задаем значение, которое будет присваиваться по умолчанию всем ключам, которые мы не клали в словарь руками: "
      ]
    },
    {
      "metadata": {
        "id": "epDRfeQl2d3F",
        "colab_type": "code",
        "colab": {}
      },
      "cell_type": "code",
      "source": [
        "defaultd = collections.defaultdict(int) \n",
        "# теперь всем ключам defaultd будет присвиваться значение по умолчанию типа int, т.е. 0\n",
        "\n",
        "defaultd['key']"
      ],
      "execution_count": 0,
      "outputs": []
    },
    {
      "metadata": {
        "id": "4zH1CPNq2d3G",
        "colab_type": "text"
      },
      "cell_type": "markdown",
      "source": [
        "Еще примеры defaultdict:"
      ]
    },
    {
      "metadata": {
        "id": "ehQwPtSJ2d3G",
        "colab_type": "code",
        "colab": {}
      },
      "cell_type": "code",
      "source": [
        "d = collections.defaultdict(lambda: 'empty')\n",
        "print(d['key'])\n",
        "\n",
        "d['key'] = 'full'\n",
        "print(d['key'])"
      ],
      "execution_count": 0,
      "outputs": []
    },
    {
      "metadata": {
        "id": "iF3WUZS_2d3H",
        "colab_type": "code",
        "colab": {}
      },
      "cell_type": "code",
      "source": [
        "d = collections.defaultdict(list)\n",
        "print(d)\n",
        "\n",
        "d['list1'].append(100)\n",
        "d['list1'].append(200)\n",
        "print(d)\n",
        "print(d['list1'])"
      ],
      "execution_count": 0,
      "outputs": []
    },
    {
      "metadata": {
        "id": "eUsb88vg2d3I",
        "colab_type": "text"
      },
      "cell_type": "markdown",
      "source": [
        "**Counter()** -- это defaultdict(int). Вынесен в отдельную сущность, потому что именно этот тип defaultdict чаще всего используется, когда нужен **счетчик** чего-либо. "
      ]
    },
    {
      "metadata": {
        "id": "q9x_2Zow2d3I",
        "colab_type": "code",
        "colab": {}
      },
      "cell_type": "code",
      "source": [
        "counter = collections.Counter()\n",
        "\n",
        "for word in [\"one\", \"two\", \"three\", \"four\", \"five\"]:\n",
        "    for letter in word:\n",
        "        counter[letter] += 1  # или .update(value)\n",
        "    \n",
        "print(counter)"
      ],
      "execution_count": 0,
      "outputs": []
    },
    {
      "metadata": {
        "id": "4EVeUCtI2d3J",
        "colab_type": "text"
      },
      "cell_type": "markdown",
      "source": [
        "### Задание 5\n",
        "\n",
        "1. Создайте словарь счётчиков\n",
        "\n",
        "2. Создайте переменную, в которую сохраните все пути к нужным текстовым файлам (расположены по адресу './20_newsgroups/sci.space/', папка лежит в гугл-доке)\n",
        "3. Для каждого текста (текстового файла) посчитайте сколько каждое слово (из этого текста) встретилось в этом тексте (используйте предыдущие пункты)"
      ]
    },
    {
      "metadata": {
        "id": "7Az7jtUa2d3J",
        "colab_type": "code",
        "colab": {}
      },
      "cell_type": "code",
      "source": [
        "# your code here"
      ],
      "execution_count": 0,
      "outputs": []
    },
    {
      "metadata": {
        "id": "J8MWVZOW2d3L",
        "colab_type": "text"
      },
      "cell_type": "markdown",
      "source": [
        "-------------"
      ]
    },
    {
      "metadata": {
        "id": "sNRgMcED2d3L",
        "colab_type": "text"
      },
      "cell_type": "markdown",
      "source": [
        "### tqdm"
      ]
    },
    {
      "metadata": {
        "id": "nQn1_T4K2d3M",
        "colab_type": "text"
      },
      "cell_type": "markdown",
      "source": [
        "Удобный виджет для jupyter notebook, который позволяет отслеживать выполнение циклов"
      ]
    },
    {
      "metadata": {
        "id": "Jn4gCHDh2d3M",
        "colab_type": "text"
      },
      "cell_type": "markdown",
      "source": [
        "Установка:\n",
        "    \n",
        "1. Устанавливаем виджеты:\n",
        "\n",
        "    pip install ipywidgets\n",
        "    (или conda install -c conda-forge ipywidgets)\n",
        "\n",
        "2. Разрешаем их использование в Jupyter Notebook:\n",
        "\n",
        "    jupyter nbextension enable --py --sys-prefix widgetsnbextension\n",
        "\n",
        "3. Перезагружаем ядро (Restart Kernel)\n",
        "\n",
        "4. Устанавливаем tqdm:\n",
        "\n",
        "    pip install tqdm\n",
        "    (или conda install -c conda-forge tqdm)\n",
        "\n",
        "\n",
        "Больше про tqdm: https://pypi.python.org/pypi/tqdm"
      ]
    },
    {
      "metadata": {
        "id": "ZU4bShoB2d3M",
        "colab_type": "code",
        "colab": {}
      },
      "cell_type": "code",
      "source": [
        "from tqdm import tqdm\n",
        "from tqdm import tnrange, tqdm_notebook\n",
        "from time import sleep"
      ],
      "execution_count": 0,
      "outputs": []
    },
    {
      "metadata": {
        "id": "U3y7GtP32d3O",
        "colab_type": "code",
        "colab": {}
      },
      "cell_type": "code",
      "source": [
        "# запустите ячейку, чтобы увидеть tqdm в действии\n",
        "cnt = 0\n",
        "for i in tqdm(range(1000)):\n",
        "    sleep(0.01)\n",
        "    cnt += 1"
      ],
      "execution_count": 0,
      "outputs": []
    },
    {
      "metadata": {
        "id": "gsEpE4Z32d3O",
        "colab_type": "code",
        "colab": {}
      },
      "cell_type": "code",
      "source": [
        "# запустите ячейку, чтобы увидеть tqdm в действии\n",
        "for i in tnrange(10, desc='1st loop'):\n",
        "    for j in tqdm_notebook(range(100), desc='2nd loop', leave=False):\n",
        "        sleep(0.01)"
      ],
      "execution_count": 0,
      "outputs": []
    },
    {
      "metadata": {
        "id": "_JkaXrpd2d3P",
        "colab_type": "code",
        "colab": {}
      },
      "cell_type": "code",
      "source": [
        ""
      ],
      "execution_count": 0,
      "outputs": []
    }
  ]
}