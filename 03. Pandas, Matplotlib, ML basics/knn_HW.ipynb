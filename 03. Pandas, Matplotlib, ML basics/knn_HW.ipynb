{
 "cells": [
  {
   "cell_type": "markdown",
   "metadata": {
    "colab_type": "text",
    "id": "TArNojK04Q4l"
   },
   "source": [
    "<h3 style=\"text-align: center;\"><b>Физтех-Школа Прикладной математики и информатики (ФПМИ) МФТИ</b></h3>"
   ]
  },
  {
   "cell_type": "code",
   "execution_count": 2,
   "metadata": {
    "colab": {},
    "colab_type": "code",
    "id": "8BHJfzRG2pR8"
   },
   "outputs": [],
   "source": [
    "import numpy as np\n",
    "import pandas as pd\n",
    "import scipy\n",
    "from matplotlib import pylab, gridspec, pyplot as plt\n",
    "%matplotlib inline\n",
    "plt.style.use('fivethirtyeight')"
   ]
  },
  {
   "cell_type": "markdown",
   "metadata": {},
   "source": [
    "Задание 1\n",
    "## Простейший kNN\n",
    "Вам выданы координаты точек и метки классов. Нужно для новой точки предсказать метку класса."
   ]
  },
  {
   "cell_type": "code",
   "execution_count": null,
   "metadata": {},
   "outputs": [],
   "source": [
    "# выгрузите данные в массивы reds и blues из файлов reds.txt и blues.txt\n",
    "reds = #тут ваш код\n",
    "blues = #тут ваш код\n",
    "\n",
    "a = [x for x in range(1000)]\n",
    "red_pairs=[[i,reds[i]] for i in range(1000)]\n",
    "blue_pairs=[[i,blues[i]] for i in range(1000)]"
   ]
  },
  {
   "cell_type": "markdown",
   "metadata": {},
   "source": [
    "Постройте на одном графике точки `reds`и `blues` при помощи `plt.scatter`"
   ]
  },
  {
   "cell_type": "code",
   "execution_count": 1,
   "metadata": {
    "scrolled": false
   },
   "outputs": [],
   "source": [
    "#тут ваш код"
   ]
  },
  {
   "cell_type": "markdown",
   "metadata": {},
   "source": [
    " Напишем функцию, которая выбирает для заданного **k** и координат точки наиболее подходящий класс по методу k ближайших соседей"
   ]
  },
  {
   "cell_type": "code",
   "execution_count": null,
   "metadata": {},
   "outputs": [],
   "source": [
    "def guess_class(x,y,k):\n",
    "    '''\n",
    "        Функция отрисовки окрестности точки (x,y) и функция поиска расстояния между точками b,c на плоскости\n",
    "    '''\n",
    "    def draw_points(x,y):\n",
    "        plt.figure(figsize=(5,5))\n",
    "        plt.grid(ls='--')\n",
    "        plt.scatter(a,reds)\n",
    "        plt.scatter(a,blues)\n",
    "        plt.scatter(x,y)\n",
    "        plt.xlim(x-4, x+4)\n",
    "        plt.ylim(y-4, y+4)\n",
    "    draw_points(x,y)\n",
    "    \n",
    "    def distance_2d(b,c):\n",
    "    '''\n",
    "        Функция подсчета расстояния между двумя точками. Здесь b и с -- координаты точек на плоскости.\n",
    "    '''\n",
    "         #тут ваш код\n",
    "        \n",
    "    def calculate_k_distances(class_points):\n",
    "        '''\n",
    "        Функция подсчета расстояния до k ближайших точек класса class_points\n",
    "        '''\n",
    "        #тут ваш код\n",
    "             \n",
    "    b = np.array(calculate_k_distances(blue_pairs)) # расстояния до ближайших k соседей класса blue\n",
    "    r = np.array(calculate_k_distances(red_pairs)) # расстояния до ближайших k соседей класса red\n",
    "    \n",
    "     # вам необходимо проверить расстояния до ближайших k точек и посмотреть, какой класс встречается чаще всего. \n",
    "    \n",
    "        #тут ваш код\n",
    "    "
   ]
  },
  {
   "cell_type": "code",
   "execution_count": null,
   "metadata": {},
   "outputs": [],
   "source": [
    "guess_class(200,2,3)"
   ]
  }
 ],
 "metadata": {
  "anaconda-cloud": {},
  "colab": {
   "collapsed_sections": [
    "E2xDUK8B2pTf",
    "hTjVQTZq2pTg",
    "OhzO4gse2pTm",
    "-FAEOkTS2pTn",
    "kVRIhHj72pTs",
    "ohQeSNId2pTt",
    "Xwj4QCMP2pTx",
    "MWVRz0NO2pTx",
    "jnHhT2Za2pUB",
    "-kTJbIeu2pUJ",
    "zWMUbGWR2pUP",
    "GzyT_DiR2pUt",
    "BXDHLk772pUt",
    "Fazsha1C2pUv",
    "AKWIbzW32pUv"
   ],
   "name": "knn.ipynb",
   "provenance": [],
   "version": "0.3.2"
  },
  "kernelspec": {
   "display_name": "Python [conda env:anaconda3]",
   "language": "python",
   "name": "conda-env-anaconda3-py"
  },
  "language_info": {
   "codemirror_mode": {
    "name": "ipython",
    "version": 3
   },
   "file_extension": ".py",
   "mimetype": "text/x-python",
   "name": "python",
   "nbconvert_exporter": "python",
   "pygments_lexer": "ipython3",
   "version": "3.5.5"
  }
 },
 "nbformat": 4,
 "nbformat_minor": 1
}
